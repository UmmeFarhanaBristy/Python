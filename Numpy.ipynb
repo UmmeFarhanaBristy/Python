{
 "cells": [
  {
   "cell_type": "code",
   "execution_count": 1,
   "id": "1157fb94",
   "metadata": {},
   "outputs": [],
   "source": [
    "# Import the numpy package under the name np\n",
    "import numpy as np"
   ]
  },
  {
   "cell_type": "code",
   "execution_count": 3,
   "id": "74240d61",
   "metadata": {},
   "outputs": [
    {
     "name": "stdout",
     "output_type": "stream",
     "text": [
      "1.18.1\n"
     ]
    }
   ],
   "source": [
    "# Print the numpy version and the configuration\n",
    "print(np.__version__)"
   ]
  },
  {
   "cell_type": "code",
   "execution_count": 5,
   "id": "06d05b6d",
   "metadata": {},
   "outputs": [
    {
     "name": "stdout",
     "output_type": "stream",
     "text": [
      "[0. 0. 0. 0. 0. 0. 0. 0. 0. 0.]\n"
     ]
    }
   ],
   "source": [
    "# Create a null vector of size 10\n",
    "x = np.zeros(10)\n",
    "print(x)"
   ]
  },
  {
   "cell_type": "code",
   "execution_count": 7,
   "id": "dd229c5e",
   "metadata": {},
   "outputs": [
    {
     "name": "stdout",
     "output_type": "stream",
     "text": [
      "10\n"
     ]
    }
   ],
   "source": [
    "# How to find the memory size of any array\n",
    "print(x.size)"
   ]
  },
  {
   "cell_type": "code",
   "execution_count": 8,
   "id": "0d0b3003",
   "metadata": {},
   "outputs": [
    {
     "name": "stdout",
     "output_type": "stream",
     "text": [
      "add(x1, x2, /, out=None, *, where=True, casting='same_kind', order='K', dtype=None, subok=True[, signature, extobj])\n",
      "\n",
      "Add arguments element-wise.\n",
      "\n",
      "Parameters\n",
      "----------\n",
      "x1, x2 : array_like\n",
      "    The arrays to be added. If ``x1.shape != x2.shape``, they must be broadcastable to a common shape (which becomes the shape of the output).\n",
      "out : ndarray, None, or tuple of ndarray and None, optional\n",
      "    A location into which the result is stored. If provided, it must have\n",
      "    a shape that the inputs broadcast to. If not provided or None,\n",
      "    a freshly-allocated array is returned. A tuple (possible only as a\n",
      "    keyword argument) must have length equal to the number of outputs.\n",
      "where : array_like, optional\n",
      "    This condition is broadcast over the input. At locations where the\n",
      "    condition is True, the `out` array will be set to the ufunc result.\n",
      "    Elsewhere, the `out` array will retain its original value.\n",
      "    Note that if an uninitialized `out` array is created via the default\n",
      "    ``out=None``, locations within it where the condition is False will\n",
      "    remain uninitialized.\n",
      "**kwargs\n",
      "    For other keyword-only arguments, see the\n",
      "    :ref:`ufunc docs <ufuncs.kwargs>`.\n",
      "\n",
      "Returns\n",
      "-------\n",
      "add : ndarray or scalar\n",
      "    The sum of `x1` and `x2`, element-wise.\n",
      "    This is a scalar if both `x1` and `x2` are scalars.\n",
      "\n",
      "Notes\n",
      "-----\n",
      "Equivalent to `x1` + `x2` in terms of array broadcasting.\n",
      "\n",
      "Examples\n",
      "--------\n",
      ">>> np.add(1.0, 4.0)\n",
      "5.0\n",
      ">>> x1 = np.arange(9.0).reshape((3, 3))\n",
      ">>> x2 = np.arange(3.0)\n",
      ">>> np.add(x1, x2)\n",
      "array([[  0.,   2.,   4.],\n",
      "       [  3.,   5.,   7.],\n",
      "       [  6.,   8.,  10.]])\n"
     ]
    }
   ],
   "source": [
    "# How to get the documentation of the numpy add function from the command line?\n",
    "np.info(np.add)"
   ]
  },
  {
   "cell_type": "code",
   "execution_count": 10,
   "id": "fe7b8bde",
   "metadata": {},
   "outputs": [
    {
     "name": "stdout",
     "output_type": "stream",
     "text": [
      "[0. 0. 0. 0. 1. 0. 0. 0. 0. 0.]\n"
     ]
    }
   ],
   "source": [
    "# Create a null vector of size 10 but the fifth value which is 1\n",
    "y = np.zeros(10)\n",
    "y[4] = 1\n",
    "print(y)"
   ]
  },
  {
   "cell_type": "code",
   "execution_count": 11,
   "id": "2c2fece1",
   "metadata": {},
   "outputs": [
    {
     "name": "stdout",
     "output_type": "stream",
     "text": [
      "[10 11 12 13 14 15 16 17 18 19 20 21 22 23 24 25 26 27 28 29 30 31 32 33\n",
      " 34 35 36 37 38 39 40 41 42 43 44 45 46 47 48]\n"
     ]
    }
   ],
   "source": [
    "# Create a vector with values ranging from 10 to 49\n",
    "z = np.arange(10, 49)\n",
    "print(z)"
   ]
  },
  {
   "cell_type": "code",
   "execution_count": 12,
   "id": "6d68fed1",
   "metadata": {},
   "outputs": [
    {
     "name": "stdout",
     "output_type": "stream",
     "text": [
      "[48 47 46 45 44 43 42 41 40 39 38 37 36 35 34 33 32 31 30 29 28 27 26 25\n",
      " 24 23 22 21 20 19 18 17 16 15 14 13 12 11 10]\n"
     ]
    }
   ],
   "source": [
    "# Reverse a vector (first element becomes last) \n",
    "rz = z[::-1]\n",
    "print(rz)"
   ]
  },
  {
   "cell_type": "code",
   "execution_count": 13,
   "id": "81aa85c2",
   "metadata": {},
   "outputs": [
    {
     "name": "stdout",
     "output_type": "stream",
     "text": [
      "[[0 1 2]\n",
      " [3 4 5]\n",
      " [6 7 8]]\n"
     ]
    }
   ],
   "source": [
    "# Create a 3x3 matrix with values ranging from 0 to 8\n",
    "a = np.arange(0, 9).reshape(3, 3)\n",
    "print(a)"
   ]
  },
  {
   "cell_type": "code",
   "execution_count": 14,
   "id": "bfd45e4e",
   "metadata": {},
   "outputs": [
    {
     "name": "stdout",
     "output_type": "stream",
     "text": [
      "[1 2 0 0 4 0]\n",
      "Indices of non-zero elements:  (array([0, 1, 4], dtype=int64),)\n"
     ]
    }
   ],
   "source": [
    "# Find indices of non-zero elements from [1,2,0,0,4,0]\n",
    "b = np.array([1,2,0,0,4,0])\n",
    "print(b)\n",
    "\n",
    "c = np.nonzero(b)\n",
    "print(\"Indices of non-zero elements: \", c)"
   ]
  },
  {
   "cell_type": "code",
   "execution_count": 15,
   "id": "292cff56",
   "metadata": {},
   "outputs": [
    {
     "name": "stdout",
     "output_type": "stream",
     "text": [
      "[[1. 0. 0.]\n",
      " [0. 1. 0.]\n",
      " [0. 0. 1.]]\n"
     ]
    }
   ],
   "source": [
    "# Create a 3x3 identity matrix\n",
    "d = np.identity(3)\n",
    "print(d)"
   ]
  },
  {
   "cell_type": "code",
   "execution_count": 16,
   "id": "48b96d35",
   "metadata": {},
   "outputs": [
    {
     "name": "stdout",
     "output_type": "stream",
     "text": [
      "[[[0.56702921 0.53466934 0.47991633]\n",
      "  [0.75167525 0.68810874 0.24379958]\n",
      "  [0.0617454  0.34818391 0.6615023 ]]\n",
      "\n",
      " [[0.80569385 0.81377731 0.3056111 ]\n",
      "  [0.34480583 0.96718969 0.7533942 ]\n",
      "  [0.84088958 0.80372914 0.38876636]]\n",
      "\n",
      " [[0.1572346  0.58073066 0.45537922]\n",
      "  [0.48584654 0.15282168 0.234871  ]\n",
      "  [0.11995312 0.38842688 0.35108722]]]\n"
     ]
    }
   ],
   "source": [
    "# Create a 3x3x3 array with random values\n",
    "e = np.random.random((3, 3, 3))\n",
    "print(e)"
   ]
  },
  {
   "cell_type": "code",
   "execution_count": 17,
   "id": "c011ca79",
   "metadata": {},
   "outputs": [
    {
     "name": "stdout",
     "output_type": "stream",
     "text": [
      "[[0.47917009 0.14518738 0.49587371 0.65574467 0.33774721 0.56952153\n",
      "  0.84921999 0.96994809 0.72754524 0.58959477]\n",
      " [0.66422173 0.08628981 0.81915911 0.11660944 0.16486224 0.81766277\n",
      "  0.49521314 0.27400292 0.82109487 0.93492948]\n",
      " [0.04891651 0.88448044 0.32157399 0.15030475 0.67330227 0.18595451\n",
      "  0.44709822 0.66215612 0.20266301 0.33745586]\n",
      " [0.15865491 0.6447967  0.54308586 0.49871387 0.05410564 0.39865648\n",
      "  0.93407631 0.79730672 0.12802781 0.29839029]\n",
      " [0.16521322 0.11146474 0.049224   0.23520107 0.64729443 0.98293347\n",
      "  0.56065133 0.1727568  0.70321518 0.54086604]\n",
      " [0.1136598  0.71659787 0.32290835 0.86578248 0.45832571 0.23432678\n",
      "  0.09064789 0.02371393 0.77306111 0.06195216]\n",
      " [0.34888676 0.68879928 0.19172263 0.55636209 0.76468302 0.52083635\n",
      "  0.94439676 0.05165169 0.85366404 0.31542979]\n",
      " [0.76855702 0.18661439 0.19101499 0.15797998 0.55736318 0.75125866\n",
      "  0.45295773 0.54968534 0.85559451 0.47150036]\n",
      " [0.5352739  0.72017144 0.38678483 0.80374553 0.84880456 0.00632135\n",
      "  0.02208447 0.09710047 0.49679653 0.0993052 ]\n",
      " [0.68427811 0.69998763 0.30502309 0.03023411 0.3779198  0.17070176\n",
      "  0.54422166 0.43342921 0.60882648 0.77332041]]\n",
      "0.006321350579908791 0.9829334687068333\n"
     ]
    }
   ],
   "source": [
    "# Create a 10x10 array with random values and find the minimum and maximum values\n",
    "f = np.random.random((10, 10))\n",
    "print(f)\n",
    "fmin = f.min()\n",
    "fmax = f.max()\n",
    "print(fmin, fmax)"
   ]
  },
  {
   "cell_type": "code",
   "execution_count": 18,
   "id": "eecceb28",
   "metadata": {},
   "outputs": [
    {
     "name": "stdout",
     "output_type": "stream",
     "text": [
      "[0.94880092 0.8902632  0.5658135  0.11944983 0.38177263 0.68489182\n",
      " 0.91892836 0.88668307 0.10608477 0.50323794 0.80193749 0.58938916\n",
      " 0.80291172 0.30051851 0.20955927 0.00597843 0.88549064 0.01697789\n",
      " 0.77385767 0.09302881 0.16031679 0.49142155 0.83121072 0.74424183\n",
      " 0.82440636 0.13279145 0.88935931 0.52211514 0.1215271  0.13784072]\n",
      "0.5113602208678222\n"
     ]
    }
   ],
   "source": [
    "# Create a random vector of size 30 and find the mean value\n",
    "g = np.random.random(30)\n",
    "print(g)\n",
    "gmean = g.mean()\n",
    "print(gmean)"
   ]
  },
  {
   "cell_type": "code",
   "execution_count": 23,
   "id": "243be28e",
   "metadata": {},
   "outputs": [
    {
     "name": "stdout",
     "output_type": "stream",
     "text": [
      "[[1. 1. 1. 1. 1.]\n",
      " [1. 0. 0. 0. 1.]\n",
      " [1. 0. 0. 0. 1.]\n",
      " [1. 0. 0. 0. 1.]\n",
      " [1. 1. 1. 1. 1.]]\n"
     ]
    }
   ],
   "source": [
    "# Create a 2d array with 1 on the border and 0 inside\n",
    "h = np.ones((5,5))\n",
    "h[1:-1, 1:-1] = 0\n",
    "print(h)"
   ]
  },
  {
   "cell_type": "code",
   "execution_count": null,
   "id": "a6313129",
   "metadata": {},
   "outputs": [],
   "source": []
  }
 ],
 "metadata": {
  "kernelspec": {
   "display_name": "Python 3",
   "language": "python",
   "name": "python3"
  },
  "language_info": {
   "codemirror_mode": {
    "name": "ipython",
    "version": 3
   },
   "file_extension": ".py",
   "mimetype": "text/x-python",
   "name": "python",
   "nbconvert_exporter": "python",
   "pygments_lexer": "ipython3",
   "version": "3.7.6"
  }
 },
 "nbformat": 4,
 "nbformat_minor": 5
}
