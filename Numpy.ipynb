{
 "cells": [
  {
   "cell_type": "code",
   "execution_count": 1,
   "id": "1157fb94",
   "metadata": {},
   "outputs": [],
   "source": [
    "# Import the numpy package under the name np\n",
    "import numpy as np"
   ]
  },
  {
   "cell_type": "code",
   "execution_count": 2,
   "id": "74240d61",
   "metadata": {},
   "outputs": [
    {
     "name": "stdout",
     "output_type": "stream",
     "text": [
      "1.18.1\n"
     ]
    }
   ],
   "source": [
    "# Print the numpy version and the configuration\n",
    "print(np.__version__)"
   ]
  },
  {
   "cell_type": "code",
   "execution_count": 3,
   "id": "e773266e",
   "metadata": {},
   "outputs": [
    {
     "name": "stdout",
     "output_type": "stream",
     "text": [
      "[0. 0. 0. 0. 0. 0. 0. 0. 0. 0.]\n"
     ]
    }
   ],
   "source": [
    "# Create a null vector of size 10\n",
    "x = np.zeros(10)\n",
    "print(x)"
   ]
  },
  {
   "cell_type": "code",
   "execution_count": 4,
   "id": "73bc5779",
   "metadata": {},
   "outputs": [
    {
     "name": "stdout",
     "output_type": "stream",
     "text": [
      "10\n"
     ]
    }
   ],
   "source": [
    "# How to find the memory size of any array\n",
    "print(x.size)"
   ]
  },
  {
   "cell_type": "code",
   "execution_count": 5,
   "id": "fb38d61f",
   "metadata": {},
   "outputs": [
    {
     "name": "stdout",
     "output_type": "stream",
     "text": [
      "add(x1, x2, /, out=None, *, where=True, casting='same_kind', order='K', dtype=None, subok=True[, signature, extobj])\n",
      "\n",
      "Add arguments element-wise.\n",
      "\n",
      "Parameters\n",
      "----------\n",
      "x1, x2 : array_like\n",
      "    The arrays to be added. If ``x1.shape != x2.shape``, they must be broadcastable to a common shape (which becomes the shape of the output).\n",
      "out : ndarray, None, or tuple of ndarray and None, optional\n",
      "    A location into which the result is stored. If provided, it must have\n",
      "    a shape that the inputs broadcast to. If not provided or None,\n",
      "    a freshly-allocated array is returned. A tuple (possible only as a\n",
      "    keyword argument) must have length equal to the number of outputs.\n",
      "where : array_like, optional\n",
      "    This condition is broadcast over the input. At locations where the\n",
      "    condition is True, the `out` array will be set to the ufunc result.\n",
      "    Elsewhere, the `out` array will retain its original value.\n",
      "    Note that if an uninitialized `out` array is created via the default\n",
      "    ``out=None``, locations within it where the condition is False will\n",
      "    remain uninitialized.\n",
      "**kwargs\n",
      "    For other keyword-only arguments, see the\n",
      "    :ref:`ufunc docs <ufuncs.kwargs>`.\n",
      "\n",
      "Returns\n",
      "-------\n",
      "add : ndarray or scalar\n",
      "    The sum of `x1` and `x2`, element-wise.\n",
      "    This is a scalar if both `x1` and `x2` are scalars.\n",
      "\n",
      "Notes\n",
      "-----\n",
      "Equivalent to `x1` + `x2` in terms of array broadcasting.\n",
      "\n",
      "Examples\n",
      "--------\n",
      ">>> np.add(1.0, 4.0)\n",
      "5.0\n",
      ">>> x1 = np.arange(9.0).reshape((3, 3))\n",
      ">>> x2 = np.arange(3.0)\n",
      ">>> np.add(x1, x2)\n",
      "array([[  0.,   2.,   4.],\n",
      "       [  3.,   5.,   7.],\n",
      "       [  6.,   8.,  10.]])\n"
     ]
    }
   ],
   "source": [
    "# How to get the documentation of the numpy add function from the command line?\n",
    "np.info(np.add)"
   ]
  },
  {
   "cell_type": "code",
   "execution_count": 6,
   "id": "6778d21e",
   "metadata": {},
   "outputs": [
    {
     "name": "stdout",
     "output_type": "stream",
     "text": [
      "[0. 0. 0. 0. 1. 0. 0. 0. 0. 0.]\n"
     ]
    }
   ],
   "source": [
    "# Create a null vector of size 10 but the fifth value which is 1\n",
    "y = np.zeros(10)\n",
    "y[4] = 1\n",
    "print(y)"
   ]
  },
  {
   "cell_type": "code",
   "execution_count": 7,
   "id": "3c444849",
   "metadata": {},
   "outputs": [
    {
     "name": "stdout",
     "output_type": "stream",
     "text": [
      "[10 11 12 13 14 15 16 17 18 19 20 21 22 23 24 25 26 27 28 29 30 31 32 33\n",
      " 34 35 36 37 38 39 40 41 42 43 44 45 46 47 48]\n"
     ]
    }
   ],
   "source": [
    "# Create a vector with values ranging from 10 to 49\n",
    "z = np.arange(10, 49)\n",
    "print(z)"
   ]
  },
  {
   "cell_type": "code",
   "execution_count": 8,
   "id": "d075defa",
   "metadata": {},
   "outputs": [
    {
     "name": "stdout",
     "output_type": "stream",
     "text": [
      "[48 47 46 45 44 43 42 41 40 39 38 37 36 35 34 33 32 31 30 29 28 27 26 25\n",
      " 24 23 22 21 20 19 18 17 16 15 14 13 12 11 10]\n"
     ]
    }
   ],
   "source": [
    "# Reverse a vector (first element becomes last) \n",
    "rz = z[::-1]\n",
    "print(rz)"
   ]
  },
  {
   "cell_type": "code",
   "execution_count": 9,
   "id": "3a203275",
   "metadata": {},
   "outputs": [
    {
     "name": "stdout",
     "output_type": "stream",
     "text": [
      "[[0 1 2]\n",
      " [3 4 5]\n",
      " [6 7 8]]\n"
     ]
    }
   ],
   "source": [
    "# Create a 3x3 matrix with values ranging from 0 to 8\n",
    "a = np.arange(0, 9).reshape(3, 3)\n",
    "print(a)"
   ]
  },
  {
   "cell_type": "code",
   "execution_count": 10,
   "id": "ba750d42",
   "metadata": {},
   "outputs": [
    {
     "name": "stdout",
     "output_type": "stream",
     "text": [
      "[1 2 0 0 4 0]\n",
      "Indices of non-zero elements:  (array([0, 1, 4], dtype=int64),)\n"
     ]
    }
   ],
   "source": [
    "# Find indices of non-zero elements from [1,2,0,0,4,0]\n",
    "b = np.array([1,2,0,0,4,0])\n",
    "print(b)\n",
    "\n",
    "c = np.nonzero(b)\n",
    "print(\"Indices of non-zero elements: \", c)"
   ]
  },
  {
   "cell_type": "code",
   "execution_count": 11,
   "id": "15104349",
   "metadata": {},
   "outputs": [
    {
     "name": "stdout",
     "output_type": "stream",
     "text": [
      "[[1. 0. 0.]\n",
      " [0. 1. 0.]\n",
      " [0. 0. 1.]]\n"
     ]
    }
   ],
   "source": [
    "# Create a 3x3 identity matrix\n",
    "d = np.identity(3)\n",
    "print(d)"
   ]
  },
  {
   "cell_type": "code",
   "execution_count": 12,
   "id": "1ba2ff5d",
   "metadata": {},
   "outputs": [
    {
     "name": "stdout",
     "output_type": "stream",
     "text": [
      "[[[0.53274053 0.65682099 0.8814404 ]\n",
      "  [0.12640952 0.66718919 0.39524063]\n",
      "  [0.4566219  0.1050557  0.31748398]]\n",
      "\n",
      " [[0.54225999 0.01420708 0.91569701]\n",
      "  [0.54517482 0.02156472 0.3716288 ]\n",
      "  [0.95931497 0.63479432 0.18201271]]\n",
      "\n",
      " [[0.10964886 0.49626787 0.79932316]\n",
      "  [0.66403371 0.37577487 0.80971476]\n",
      "  [0.32987764 0.19197943 0.03178128]]]\n"
     ]
    }
   ],
   "source": [
    "# Create a 3x3x3 array with random values\n",
    "e = np.random.random((3, 3, 3))\n",
    "print(e)"
   ]
  },
  {
   "cell_type": "code",
   "execution_count": 13,
   "id": "e43edc16",
   "metadata": {},
   "outputs": [
    {
     "name": "stdout",
     "output_type": "stream",
     "text": [
      "[[0.68632615 0.44259702 0.92246112 0.80949475 0.79555482 0.14268607\n",
      "  0.42521095 0.70800956 0.44413341 0.88586744]\n",
      " [0.33557477 0.56587534 0.37852055 0.76191143 0.41533409 0.12166528\n",
      "  0.93199158 0.50564208 0.73643577 0.01783505]\n",
      " [0.19398676 0.84311131 0.39178666 0.19530153 0.15993326 0.94015408\n",
      "  0.4355555  0.87156481 0.81906007 0.6811025 ]\n",
      " [0.30693639 0.99230239 0.56994857 0.12675847 0.37423115 0.3820581\n",
      "  0.83687829 0.90579737 0.92834402 0.0372873 ]\n",
      " [0.94017341 0.62275019 0.18843497 0.91849684 0.62882363 0.34843948\n",
      "  0.01952219 0.30470504 0.23186549 0.32271792]\n",
      " [0.97203248 0.43159462 0.21753762 0.99681829 0.11428902 0.73820663\n",
      "  0.73487721 0.51131602 0.65848199 0.39829648]\n",
      " [0.8767285  0.5064575  0.82205092 0.71351159 0.55413498 0.44506062\n",
      "  0.99311378 0.16342348 0.12682824 0.33398349]\n",
      " [0.06113033 0.67978631 0.74193348 0.92120288 0.53150256 0.85289797\n",
      "  0.80030297 0.51983334 0.72401349 0.08791856]\n",
      " [0.40574728 0.38567403 0.26163033 0.59336212 0.38333928 0.81654723\n",
      "  0.15484739 0.54537429 0.08094925 0.28176509]\n",
      " [0.99456531 0.37213298 0.54608086 0.70528304 0.5212854  0.21118943\n",
      "  0.24620048 0.20595937 0.11394961 0.69783056]]\n",
      "0.017835053583600935 0.9968182941160987\n"
     ]
    }
   ],
   "source": [
    "# Create a 10x10 array with random values and find the minimum and maximum values\n",
    "f = np.random.random((10, 10))\n",
    "print(f)\n",
    "fmin = f.min()\n",
    "fmax = f.max()\n",
    "print(fmin, fmax)"
   ]
  },
  {
   "cell_type": "code",
   "execution_count": 14,
   "id": "cc1bea8a",
   "metadata": {},
   "outputs": [
    {
     "name": "stdout",
     "output_type": "stream",
     "text": [
      "[0.719034   0.05123467 0.00888793 0.05735156 0.5201871  0.39469576\n",
      " 0.42748949 0.24569216 0.74859151 0.04840089 0.55594544 0.72678298\n",
      " 0.3106406  0.0817684  0.75021731 0.48743968 0.81183605 0.00280313\n",
      " 0.41426819 0.98527033 0.7252863  0.80018661 0.89564117 0.41881134\n",
      " 0.63816686 0.44323543 0.1204533  0.67874559 0.84406611 0.56427894]\n",
      "0.48258029382547135\n"
     ]
    }
   ],
   "source": [
    "# Create a random vector of size 30 and find the mean value\n",
    "g = np.random.random(30)\n",
    "print(g)\n",
    "gmean = g.mean()\n",
    "print(gmean)"
   ]
  },
  {
   "cell_type": "code",
   "execution_count": 15,
   "id": "2f5238fe",
   "metadata": {},
   "outputs": [
    {
     "name": "stdout",
     "output_type": "stream",
     "text": [
      "[[1. 1. 1. 1. 1.]\n",
      " [1. 0. 0. 0. 1.]\n",
      " [1. 0. 0. 0. 1.]\n",
      " [1. 0. 0. 0. 1.]\n",
      " [1. 1. 1. 1. 1.]]\n"
     ]
    }
   ],
   "source": [
    "# Create a 2d array with 1 on the border and 0 inside\n",
    "h = np.ones((5,5))\n",
    "h[1:-1, 1:-1] = 0\n",
    "print(h)"
   ]
  },
  {
   "cell_type": "code",
   "execution_count": 16,
   "id": "326f29bb",
   "metadata": {},
   "outputs": [
    {
     "name": "stdout",
     "output_type": "stream",
     "text": [
      "Original array: \n",
      "[[18 22 15  0 16]\n",
      " [12  5  6 14  7]\n",
      " [ 1  2 24 21 19]\n",
      " [ 4 23 20 17 11]\n",
      " [10 13  8  3  9]]\n"
     ]
    }
   ],
   "source": [
    "# How to add a border (filled with 0's) around an existing array\n",
    "i = np.random.permutation(25).reshape(5,5)\n",
    "print(\"Original array: \")\n",
    "print(i)"
   ]
  },
  {
   "cell_type": "code",
   "execution_count": 17,
   "id": "968195d6",
   "metadata": {},
   "outputs": [
    {
     "name": "stdout",
     "output_type": "stream",
     "text": [
      "[[ 0  0  0  0  0  0  0]\n",
      " [ 0 18 22 15  0 16  0]\n",
      " [ 0 12  5  6 14  7  0]\n",
      " [ 0  1  2 24 21 19  0]\n",
      " [ 0  4 23 20 17 11  0]\n",
      " [ 0 10 13  8  3  9  0]\n",
      " [ 0  0  0  0  0  0  0]]\n"
     ]
    }
   ],
   "source": [
    "inew = np.pad(i, pad_width = 1, mode = 'constant', constant_values = 0)\n",
    "print(inew)"
   ]
  },
  {
   "cell_type": "code",
   "execution_count": 18,
   "id": "5339dd1b",
   "metadata": {},
   "outputs": [
    {
     "data": {
      "text/plain": [
       "False"
      ]
     },
     "execution_count": 18,
     "metadata": {},
     "output_type": "execute_result"
    }
   ],
   "source": [
    "# What is the result of the following expression?\n",
    "\n",
    "0 * np.nan\n",
    "np.nan == np.nan\n",
    "np.inf > np.nan\n",
    "np.nan - np.nan\n",
    "np.nan in set([np.nan])\n",
    "0.3 == 3 * 0.1"
   ]
  },
  {
   "cell_type": "code",
   "execution_count": 19,
   "id": "d787c3c0",
   "metadata": {},
   "outputs": [
    {
     "name": "stdout",
     "output_type": "stream",
     "text": [
      "[[0 0 0 0 0]\n",
      " [1 0 0 0 0]\n",
      " [0 2 0 0 0]\n",
      " [0 0 3 0 0]\n",
      " [0 0 0 4 0]]\n"
     ]
    }
   ],
   "source": [
    "# Create a 5x5 matrix with values 1,2,3,4 just below the diagonal \n",
    "j = np.diag(1+np.arange(4), k = -1)\n",
    "print(j)"
   ]
  },
  {
   "cell_type": "code",
   "execution_count": 20,
   "id": "65cf7a46",
   "metadata": {},
   "outputs": [
    {
     "name": "stdout",
     "output_type": "stream",
     "text": [
      "[[0 1 0 1 0 1 0 1]\n",
      " [1 0 1 0 1 0 1 0]\n",
      " [0 1 0 1 0 1 0 1]\n",
      " [1 0 1 0 1 0 1 0]\n",
      " [0 1 0 1 0 1 0 1]\n",
      " [1 0 1 0 1 0 1 0]\n",
      " [0 1 0 1 0 1 0 1]\n",
      " [1 0 1 0 1 0 1 0]]\n"
     ]
    }
   ],
   "source": [
    "# Create a 8x8 matrix and fill it with a checkerboard pattern\n",
    "k = np.zeros((8,8), dtype = int)\n",
    "k[1::2, ::2] = 1\n",
    "k[::2, 1::2] = 1\n",
    "print(k)"
   ]
  },
  {
   "cell_type": "code",
   "execution_count": 21,
   "id": "a4d069a4",
   "metadata": {},
   "outputs": [
    {
     "name": "stdout",
     "output_type": "stream",
     "text": [
      "(1, 5, 4)\n"
     ]
    }
   ],
   "source": [
    "# Consider a (6,7,8) shape array, what is the index (x,y,z) of the 100th element?\n",
    "print(np.unravel_index(100, (6, 7, 8)))"
   ]
  },
  {
   "cell_type": "code",
   "execution_count": 22,
   "id": "1df644cc",
   "metadata": {},
   "outputs": [
    {
     "name": "stdout",
     "output_type": "stream",
     "text": [
      "[[1 0 1 0 1 0 1 0]\n",
      " [0 1 0 1 0 1 0 1]\n",
      " [1 0 1 0 1 0 1 0]\n",
      " [0 1 0 1 0 1 0 1]\n",
      " [1 0 1 0 1 0 1 0]\n",
      " [0 1 0 1 0 1 0 1]\n",
      " [1 0 1 0 1 0 1 0]\n",
      " [0 1 0 1 0 1 0 1]]\n"
     ]
    }
   ],
   "source": [
    "# Create a checkerboard 8x8 matrix using the tile function\n",
    "l = np.tile(np.array([[1, 0], [0, 1]]), (4, 4))\n",
    "print(l)"
   ]
  },
  {
   "cell_type": "code",
   "execution_count": 23,
   "id": "bd3089d6",
   "metadata": {},
   "outputs": [
    {
     "name": "stdout",
     "output_type": "stream",
     "text": [
      "[[ 1.62361518  1.55497611 -0.84541503  0.5771963   0.50549839]\n",
      " [-1.57536783  0.12608873  0.47331698 -0.11220866  0.67692703]\n",
      " [ 0.92337621 -1.17235406  0.93898749  1.01214444 -1.10490431]\n",
      " [-0.23986812 -0.6607989  -1.23072056 -1.15129102  0.59230227]\n",
      " [ 1.14820355 -1.1669196  -0.46718582 -1.52083886  1.09524011]]\n"
     ]
    }
   ],
   "source": [
    "# Normalize a 5x5 random matrix\n",
    "m = np.random.random((5, 5))\n",
    "mnorm = (m - np.mean(m)) / (np.std(m))\n",
    "print(mnorm)"
   ]
  },
  {
   "cell_type": "code",
   "execution_count": 24,
   "id": "2c6eb862",
   "metadata": {},
   "outputs": [],
   "source": [
    "# Create a custom dtype that describes a color as four unsigned bytes (RGBA)\n",
    "color = np.dtype([(\"r\", np.ubyte),\n",
    "                  (\"g\", np.ubyte),\n",
    "                  (\"b\", np.ubyte),\n",
    "                  (\"a\", np.ubyte)])"
   ]
  },
  {
   "cell_type": "code",
   "execution_count": 25,
   "id": "819e99ef",
   "metadata": {},
   "outputs": [
    {
     "name": "stdout",
     "output_type": "stream",
     "text": [
      "[[3. 3.]\n",
      " [3. 3.]\n",
      " [3. 3.]\n",
      " [3. 3.]\n",
      " [3. 3.]]\n"
     ]
    }
   ],
   "source": [
    "# Multiply a 5x3 matrix by a 3x2 matrix (real matrix product)\n",
    "n = np.dot(np.ones((5,3)), np.ones((3,2)))\n",
    "print(n)"
   ]
  },
  {
   "cell_type": "code",
   "execution_count": 26,
   "id": "8ff2ccfe",
   "metadata": {},
   "outputs": [
    {
     "name": "stdout",
     "output_type": "stream",
     "text": [
      "[ 0  1  2  3  4  5  6  7  8  9 10 11 12 13 14]\n",
      "[ 0  1  2  3 -4 -5 -6 -7  8  9 10 11 12 13 14]\n"
     ]
    }
   ],
   "source": [
    "# Given a 1D array, negate all elements which are between 3 and 8, in place.\n",
    "o = np.arange(15)\n",
    "print(o)\n",
    "\n",
    "o[(3 < o) & (o < 8)] *= -1\n",
    "print(o)"
   ]
  },
  {
   "cell_type": "code",
   "execution_count": 27,
   "id": "514391f1",
   "metadata": {},
   "outputs": [
    {
     "name": "stdout",
     "output_type": "stream",
     "text": [
      "9\n",
      "10\n"
     ]
    }
   ],
   "source": [
    "# What is the output of the following script?\n",
    "print(sum(range(5),-1))\n",
    "from numpy import *\n",
    "print(sum(range(5),-1))"
   ]
  },
  {
   "cell_type": "code",
   "execution_count": 32,
   "id": "ad7d6e08",
   "metadata": {},
   "outputs": [
    {
     "data": {
      "text/plain": [
       "array([ 0.,  1.,  2.,  3.,  4.,  5.,  6.,  7.,  8.,  9., 10., 11., 12.,\n",
       "       13., 14.])"
      ]
     },
     "execution_count": 32,
     "metadata": {},
     "output_type": "execute_result"
    }
   ],
   "source": [
    "# Consider an integer vector Z, which of these expressions are legal?\n",
    "o = np.arange(15)\n",
    "o**o\n",
    "2 << o >> 2\n",
    "o <- o\n",
    "1j*o\n",
    "o/1/1\n",
    "# o<o>o    Only this is invalid"
   ]
  },
  {
   "cell_type": "code",
   "execution_count": 33,
   "id": "76cf49a8",
   "metadata": {},
   "outputs": [
    {
     "name": "stderr",
     "output_type": "stream",
     "text": [
      "C:\\Users\\mi\\AppData\\Roaming\\Python\\Python37\\site-packages\\ipykernel_launcher.py:2: RuntimeWarning: invalid value encountered in true_divide\n",
      "  \n",
      "C:\\Users\\mi\\AppData\\Roaming\\Python\\Python37\\site-packages\\ipykernel_launcher.py:3: RuntimeWarning: divide by zero encountered in floor_divide\n",
      "  This is separate from the ipykernel package so we can avoid doing imports until\n"
     ]
    },
    {
     "data": {
      "text/plain": [
       "array([-2.14748365e+09])"
      ]
     },
     "execution_count": 33,
     "metadata": {},
     "output_type": "execute_result"
    }
   ],
   "source": [
    "# What are the result of the following expressions?\n",
    "np.array(0) / np.array(0)\n",
    "np.array(0) // np.array(0)\n",
    "np.array([np.nan]).astype(int).astype(float)"
   ]
  },
  {
   "cell_type": "code",
   "execution_count": 34,
   "id": "3d4e6b85",
   "metadata": {},
   "outputs": [
    {
     "name": "stdout",
     "output_type": "stream",
     "text": [
      "[-9. -3. -8. -6. -4.  4.  2.  3.  6.  6.]\n"
     ]
    }
   ],
   "source": [
    "# How to round away from zero a float array ?\n",
    "p = np.random.uniform(-10, +10, 10)\n",
    "pnew = np.copysign(np.ceil(np.abs(p)), p)\n",
    "print(pnew)"
   ]
  },
  {
   "cell_type": "code",
   "execution_count": 35,
   "id": "ccb36406",
   "metadata": {},
   "outputs": [
    {
     "name": "stdout",
     "output_type": "stream",
     "text": [
      "[1 2 4 5]\n"
     ]
    }
   ],
   "source": [
    "# How to find common values between two arrays?\n",
    "q1 = np.random.randint(0, 10, 10)\n",
    "q2 = np.random.randint(0, 10, 10)\n",
    "common = np.intersect1d(q1, q2)\n",
    "print(common)"
   ]
  },
  {
   "cell_type": "code",
   "execution_count": 36,
   "id": "2a2659d4",
   "metadata": {},
   "outputs": [],
   "source": [
    "# How to ignore all numpy warnings (not recommended)?\n",
    "# Suicide mode on\n",
    "defaults = np.seterr(all=\"ignore\")\n",
    "Z = np.ones(1) / 0\n",
    "\n",
    "# Back to sanity\n",
    "_ = np.seterr(**defaults)\n",
    "\n",
    "# Equivalently with a context manager\n",
    "with np.errstate(all=\"ignore\"):\n",
    "    np.arange(3) / 0\n"
   ]
  },
  {
   "cell_type": "code",
   "execution_count": 37,
   "id": "13949527",
   "metadata": {},
   "outputs": [
    {
     "name": "stderr",
     "output_type": "stream",
     "text": [
      "C:\\Users\\mi\\AppData\\Roaming\\Python\\Python37\\site-packages\\ipykernel_launcher.py:2: RuntimeWarning: invalid value encountered in sqrt\n",
      "  \n"
     ]
    },
    {
     "data": {
      "text/plain": [
       "False"
      ]
     },
     "execution_count": 37,
     "metadata": {},
     "output_type": "execute_result"
    }
   ],
   "source": [
    "# Is the following expressions true?\n",
    "np.sqrt(-1) == np.emath.sqrt(-1)"
   ]
  },
  {
   "cell_type": "code",
   "execution_count": 40,
   "id": "a7160acc",
   "metadata": {},
   "outputs": [
    {
     "name": "stdout",
     "output_type": "stream",
     "text": [
      "Yesterday 2021-07-05\n",
      "Today 2021-07-06\n",
      "Tomorrow 2021-07-07\n"
     ]
    }
   ],
   "source": [
    "# How to get the dates of yesterday, today and tomorrow?\n",
    "yesterday = np.datetime64('today') - np.timedelta64(1)\n",
    "today     = np.datetime64('today')\n",
    "tomorrow  = np.datetime64('today') + np.timedelta64(1)\n",
    "print(\"Yesterday\", yesterday)\n",
    "print(\"Today\", today)\n",
    "print(\"Tomorrow\", tomorrow)"
   ]
  },
  {
   "cell_type": "code",
   "execution_count": 41,
   "id": "1cf4db39",
   "metadata": {},
   "outputs": [
    {
     "name": "stdout",
     "output_type": "stream",
     "text": [
      "['2016-07-01' '2016-07-02' '2016-07-03' '2016-07-04' '2016-07-05'\n",
      " '2016-07-06' '2016-07-07' '2016-07-08' '2016-07-09' '2016-07-10'\n",
      " '2016-07-11' '2016-07-12' '2016-07-13' '2016-07-14' '2016-07-15'\n",
      " '2016-07-16' '2016-07-17' '2016-07-18' '2016-07-19' '2016-07-20'\n",
      " '2016-07-21' '2016-07-22' '2016-07-23' '2016-07-24' '2016-07-25'\n",
      " '2016-07-26' '2016-07-27' '2016-07-28' '2016-07-29' '2016-07-30'\n",
      " '2016-07-31']\n"
     ]
    }
   ],
   "source": [
    "# How to get all the dates corresponding to the month of July 2016\n",
    "dates = np.arange('2016-07', '2016-08', dtype='datetime64[D]')\n",
    "print(dates)"
   ]
  },
  {
   "cell_type": "code",
   "execution_count": 42,
   "id": "49da4a7e",
   "metadata": {},
   "outputs": [
    {
     "data": {
      "text/plain": [
       "array([-1.5, -1.5, -1.5])"
      ]
     },
     "execution_count": 42,
     "metadata": {},
     "output_type": "execute_result"
    }
   ],
   "source": [
    "# How to compute ((A+B)*(-A/2)) in place (without copy)?\n",
    "A = np.ones(3)*1\n",
    "B = np.ones(3)*2\n",
    "np.add(A,B,out=B)\n",
    "np.divide(A,2,out=A)\n",
    "np.negative(A,out=A)\n",
    "np.multiply(A,B,out=A)"
   ]
  },
  {
   "cell_type": "code",
   "execution_count": 43,
   "id": "d86119a0",
   "metadata": {},
   "outputs": [
    {
     "name": "stdout",
     "output_type": "stream",
     "text": [
      "[5. 9. 8. 7. 4. 2. 4. 2. 0. 6.]\n",
      "[5. 9. 8. 7. 4. 2. 4. 2. 0. 6.]\n",
      "[5. 9. 8. 7. 4. 2. 4. 2. 0. 6.]\n",
      "[5 9 8 7 4 2 4 2 0 6]\n",
      "[5. 9. 8. 7. 4. 2. 4. 2. 0. 6.]\n"
     ]
    }
   ],
   "source": [
    "#  Extract the integer part of a random array of positive numbers using 4 different methods\n",
    "r = np.random.uniform(0, 10, 10)\n",
    "\n",
    "print(r - r%1)\n",
    "print(r // 1)\n",
    "print(np.floor(r))\n",
    "print(r.astype(int))\n",
    "print(np.trunc(r))"
   ]
  },
  {
   "cell_type": "code",
   "execution_count": null,
   "id": "c521841f",
   "metadata": {},
   "outputs": [],
   "source": []
  }
 ],
 "metadata": {
  "kernelspec": {
   "display_name": "Python 3",
   "language": "python",
   "name": "python3"
  },
  "language_info": {
   "codemirror_mode": {
    "name": "ipython",
    "version": 3
   },
   "file_extension": ".py",
   "mimetype": "text/x-python",
   "name": "python",
   "nbconvert_exporter": "python",
   "pygments_lexer": "ipython3",
   "version": "3.7.6"
  }
 },
 "nbformat": 4,
 "nbformat_minor": 5
}
