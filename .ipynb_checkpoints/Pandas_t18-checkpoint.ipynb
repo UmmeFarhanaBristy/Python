{
 "cells": [
  {
   "cell_type": "code",
   "execution_count": 1,
   "metadata": {},
   "outputs": [],
   "source": [
    "import pandas as pd"
   ]
  },
  {
   "cell_type": "code",
   "execution_count": 3,
   "metadata": {},
   "outputs": [
    {
     "data": {
      "text/plain": [
       "DatetimeIndex(['2021-01-09 14:30:00', '2021-01-09 14:30:00',\n",
       "               '2021-01-09 00:00:00', '2021-01-09 00:00:00',\n",
       "               '2021-01-09 00:00:00', '2021-01-09 00:00:00'],\n",
       "              dtype='datetime64[ns]', freq=None)"
      ]
     },
     "execution_count": 3,
     "metadata": {},
     "output_type": "execute_result"
    }
   ],
   "source": [
    "dates = ['2021-01-09 2:30:00 PM', 'Jan 9, 2021 14:30:00', '01/09/2021', '2021.01.09', '2021/01/09', '20210109']\n",
    "\n",
    "pd.to_datetime(dates)"
   ]
  },
  {
   "cell_type": "code",
   "execution_count": 4,
   "metadata": {},
   "outputs": [
    {
     "data": {
      "text/plain": [
       "Timestamp('2021-01-09 00:00:00')"
      ]
     },
     "execution_count": 4,
     "metadata": {},
     "output_type": "execute_result"
    }
   ],
   "source": [
    "# Europe convention in dd/mm/yyyy. to handle this (default is US convention which is mm/dd/yyyy)\n",
    "\n",
    "pd.to_datetime('9/1/2021', dayfirst = True)"
   ]
  },
  {
   "cell_type": "code",
   "execution_count": 9,
   "metadata": {},
   "outputs": [
    {
     "data": {
      "text/plain": [
       "Timestamp('2021-09-01 00:00:00')"
      ]
     },
     "execution_count": 9,
     "metadata": {},
     "output_type": "execute_result"
    }
   ],
   "source": [
    "# to specify an unusual format\n",
    "\n",
    "pd.to_datetime('1$9$2021', format = '%d$%m$%Y')"
   ]
  },
  {
   "cell_type": "code",
   "execution_count": 11,
   "metadata": {},
   "outputs": [
    {
     "data": {
      "text/plain": [
       "Index(['2021-01-09 2:30:00 PM', 'Jan 9, 2021 14:30:00', '01/09/2021',\n",
       "       '2021.01.09', '2021/01/09', 'abcd'],\n",
       "      dtype='object')"
      ]
     },
     "execution_count": 11,
     "metadata": {},
     "output_type": "execute_result"
    }
   ],
   "source": [
    "# handling garbage value\n",
    "\n",
    "dates = ['2021-01-09 2:30:00 PM', 'Jan 9, 2021 14:30:00', '01/09/2021', '2021.01.09', '2021/01/09', 'abcd']\n",
    "\n",
    "pd.to_datetime(dates, errors = 'ignore')"
   ]
  },
  {
   "cell_type": "code",
   "execution_count": 12,
   "metadata": {},
   "outputs": [
    {
     "data": {
      "text/plain": [
       "DatetimeIndex(['2021-01-09 14:30:00', '2021-01-09 14:30:00',\n",
       "               '2021-01-09 00:00:00', '2021-01-09 00:00:00',\n",
       "               '2021-01-09 00:00:00',                 'NaT'],\n",
       "              dtype='datetime64[ns]', freq=None)"
      ]
     },
     "execution_count": 12,
     "metadata": {},
     "output_type": "execute_result"
    }
   ],
   "source": [
    "# handling garbage value\n",
    "# changing the garbage value\n",
    "\n",
    "dates = ['2021-01-09 2:30:00 PM', 'Jan 9, 2021 14:30:00', '01/09/2021', '2021.01.09', '2021/01/09', 'abcd']\n",
    "\n",
    "pd.to_datetime(dates, errors = 'coerce')"
   ]
  },
  {
   "cell_type": "code",
   "execution_count": 16,
   "metadata": {},
   "outputs": [
    {
     "data": {
      "text/plain": [
       "Timestamp('2017-07-29 19:32:29')"
      ]
     },
     "execution_count": 16,
     "metadata": {},
     "output_type": "execute_result"
    }
   ],
   "source": [
    "# handling epoch (unix time)\n",
    "# Epoch (unix time) is number of seconds that have passed since Jan 1, 1970 00:00:00 UTC\n",
    "\n",
    "t = 1501356749\n",
    "\n",
    "pd.to_datetime(t, unit = 's')"
   ]
  },
  {
   "cell_type": "code",
   "execution_count": 17,
   "metadata": {},
   "outputs": [
    {
     "data": {
      "text/plain": [
       "DatetimeIndex(['2017-07-29 19:32:29'], dtype='datetime64[ns]', freq=None)"
      ]
     },
     "execution_count": 17,
     "metadata": {},
     "output_type": "execute_result"
    }
   ],
   "source": [
    "# changing Epoch to date time index\n",
    "\n",
    "dt = pd.to_datetime([t], unit = 's')\n",
    "dt"
   ]
  },
  {
   "cell_type": "code",
   "execution_count": 18,
   "metadata": {},
   "outputs": [
    {
     "data": {
      "text/plain": [
       "array([1501356749000000000], dtype=int64)"
      ]
     },
     "execution_count": 18,
     "metadata": {},
     "output_type": "execute_result"
    }
   ],
   "source": [
    "dt.view('int64')"
   ]
  },
  {
   "cell_type": "code",
   "execution_count": null,
   "metadata": {},
   "outputs": [],
   "source": []
  }
 ],
 "metadata": {
  "kernelspec": {
   "display_name": "Python 3",
   "language": "python",
   "name": "python3"
  },
  "language_info": {
   "codemirror_mode": {
    "name": "ipython",
    "version": 3
   },
   "file_extension": ".py",
   "mimetype": "text/x-python",
   "name": "python",
   "nbconvert_exporter": "python",
   "pygments_lexer": "ipython3",
   "version": "3.7.6"
  }
 },
 "nbformat": 4,
 "nbformat_minor": 4
}
